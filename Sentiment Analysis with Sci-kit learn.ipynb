import pandas as pd
import numpy as np
import nltk
import re
from sklearn.model_selection import train_test_split
from sklearn.feature_extraction.text import CountVectorizer, TfidfVectorizer
from sklearn.pipeline import Pipeline
from sklearn.linear_model import LogisticRegression
from sklearn.metrics import accuracy_score, classification_report, confusion_matrix, precision_recall_curve, auc, roc_curve
import matplotlib.pyplot as plt
import seaborn as sns
from wordcloud import WordCloud

#Loading dataset
df = pd.read_csv('/content/IMDB Dataset.csv')
df.head()
     
